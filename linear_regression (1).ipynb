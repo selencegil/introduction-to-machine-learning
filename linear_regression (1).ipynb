{
  "cells": [
    {
      "cell_type": "code",
      "execution_count": 36,
      "metadata": {
        "id": "aXYuvm8sdXHo"
      },
      "outputs": [],
      "source": [
        "import pandas as pd\n",
        "import matplotlib.pyplot as plt"
      ]
    },
    {
      "cell_type": "code",
      "execution_count": 37,
      "metadata": {
        "id": "qYjz_JiGdXHt"
      },
      "outputs": [],
      "source": [
        "df = pd.read_csv(\"/content/linear-regression-dataset.csv\",sep = \";\")"
      ]
    },
    {
      "cell_type": "code",
      "execution_count": 38,
      "metadata": {
        "scrolled": false,
        "colab": {
          "base_uri": "https://localhost:8080/",
          "height": 279
        },
        "id": "IZkSX38pdXHu",
        "outputId": "7771f91a-7a00-4adc-89cf-18cd27f72974"
      },
      "outputs": [
        {
          "output_type": "display_data",
          "data": {
            "text/plain": [
              "<Figure size 432x288 with 1 Axes>"
            ],
            "image/png": "[encoded data removed]"
          },
          "metadata": {
            "needs_background": "light"
          }
        }
      ],
      "source": [
        "plt.scatter(df.experience,df.salary)\n",
        "plt.xlabel(\"experience\")\n",
        "plt.ylabel(\"salary\")\n",
        "plt.show()\n"
      ]
    },
    {
      "cell_type": "code",
      "execution_count": 39,
      "metadata": {
        "colab": {
          "base_uri": "https://localhost:8080/"
        },
        "id": "lel-w1uhdXHv",
        "outputId": "a576dd1a-0947-4d8d-f029-1127cbfa2695"
      },
      "outputs": [
        {
          "output_type": "stream",
          "name": "stdout",
          "text": [
            "[[1138.34819698]]\n",
            "[1663.89519747]\n"
          ]
        }
      ],
      "source": [
        "#%% linear regression\n",
        "# sklearn library\n",
        "from sklearn.linear_model import LinearRegression\n",
        "\n",
        "# linear regression model\n",
        "linear_reg = LinearRegression()\n",
        "\n",
        "x = df.experience.values.reshape(14,1)\n",
        "y = df.salary.values.reshape(14,1)\n",
        "\n",
        "linear_reg.fit(x,y) ##kırmızı çizgi için\n",
        "\n",
        "print(linear_reg.coef_) ##eğimi görmek için\n",
        "\n",
        "print(linear_reg.intercept_) ##sabiti görmek için\n",
        "\n",
        "\n",
        "\n"
      ]
    },
    {
      "cell_type": "code",
      "execution_count": 40,
      "metadata": {
        "id": "SZSSZqbJdXHw",
        "outputId": "0805d6a2-3eef-4e2f-de3f-fa0a31e8fd23",
        "colab": {
          "base_uri": "https://localhost:8080/"
        }
      },
      "outputs": [
        {
          "output_type": "stream",
          "name": "stdout",
          "text": [
            "b0:  [[1663.89519747]]\n"
          ]
        }
      ],
      "source": [
        "#%% prediction\n",
        "import numpy as np\n",
        "\n",
        "b0 = linear_reg.predict([[0]]) ##x değerini 0 yaptık. y=b0+(b.x)\n",
        "print(\"b0: \",b0)\n",
        "\n",
        "\n"
      ]
    },
    {
      "cell_type": "code",
      "execution_count": 41,
      "metadata": {
        "id": "iomYxbwkdXHx",
        "outputId": "1a706ed9-4f3a-4bc3-d0ce-b204cc45388a",
        "colab": {
          "base_uri": "https://localhost:8080/"
        }
      },
      "outputs": [
        {
          "output_type": "stream",
          "name": "stdout",
          "text": [
            "b0_:  [1663.89519747]\n"
          ]
        }
      ],
      "source": [
        "b0_ = linear_reg.intercept_\n",
        "print(\"b0_: \",b0_)   # intercept the y-axis\n",
        "\n"
      ]
    },
    {
      "cell_type": "code",
      "execution_count": 42,
      "metadata": {
        "id": "bIYzeZArdXHx",
        "outputId": "8b306dc1-9038-4dfd-a236-c8ef56a6e9eb",
        "colab": {
          "base_uri": "https://localhost:8080/"
        }
      },
      "outputs": [
        {
          "output_type": "stream",
          "name": "stdout",
          "text": [
            "b1:  [[1138.34819698]]\n"
          ]
        }
      ],
      "source": [
        "b1 = linear_reg.coef_\n",
        "print(\"b1: \",b1)   # slope\n",
        "\n",
        "# salary = 1663 + 1138*experience \n",
        "\n"
      ]
    },
    {
      "cell_type": "code",
      "execution_count": 43,
      "metadata": {
        "id": "FOUX9lq_dXHy",
        "outputId": "3d68c502-d216-44e1-9f0c-ef32b4a720ee",
        "colab": {
          "base_uri": "https://localhost:8080/"
        }
      },
      "outputs": [
        {
          "output_type": "stream",
          "name": "stdout",
          "text": [
            "14181\n",
            "8129\n"
          ]
        }
      ],
      "source": [
        "new_salary = 1663 + 1138*11    ##11 yıllık deneyimi olan kişinin alacağı maaşı hesaplama\n",
        "print(new_salary)\n",
        "\n",
        "new_salary = 163 + 1138*7  ##7 yıllık deneyimi olanın alacağı maaş (küsüratsız)\n",
        "print(new_salary)\n",
        "\n"
      ]
    },
    {
      "cell_type": "code",
      "execution_count": 44,
      "metadata": {
        "id": "02uUHRkAdXHz",
        "outputId": "d7815603-7670-45c9-cefd-55cd648d2812",
        "colab": {
          "base_uri": "https://localhost:8080/"
        }
      },
      "outputs": [
        {
          "output_type": "stream",
          "name": "stdout",
          "text": [
            "b11:  [[14185.72536421]]\n",
            "b7: [[9632.3325763]]\n"
          ]
        }
      ],
      "source": [
        "b11 = linear_reg.predict([[11]]) \n",
        "print(\"b11: \",b11)\n",
        "\n",
        "b7 = linear_reg.predict([[7]]) ##küsüratlı olarak yeni maaşı hesaplar.\n",
        "print(\"b7:\",b7)\n"
      ]
    },
    {
      "cell_type": "code",
      "execution_count": 45,
      "metadata": {
        "id": "2vH22kYydXH0",
        "outputId": "8c2e9251-41dd-40ee-adba-50c180c14175",
        "colab": {
          "base_uri": "https://localhost:8080/",
          "height": 265
        }
      },
      "outputs": [
        {
          "output_type": "display_data",
          "data": {
            "text/plain": [
              "<Figure size 432x288 with 1 Axes>"
            ],
            "image/png": "[encoded data removed]"
          },
          "metadata": {
            "needs_background": "light"
          }
        }
      ],
      "source": [
        "# visualize line\n",
        "array = np.array([0,1,2,3,4,5,6,7,8,9,10,11,12,13,14,15]).reshape(-1,1)  # experience 0-15 yıl arasındaki deneyimleri array olarak atama\n",
        "\n",
        "\n",
        "plt.scatter(x,y)\n",
        "plt.show()\n",
        "\n",
        "\n"
      ]
    },
    {
      "cell_type": "code",
      "execution_count": 46,
      "metadata": {
        "id": "lG4m8WL8dXH0",
        "outputId": "02f7bfce-785c-4004-ff9e-8e36b1469861",
        "colab": {
          "base_uri": "https://localhost:8080/",
          "height": 282
        }
      },
      "outputs": [
        {
          "output_type": "execute_result",
          "data": {
            "text/plain": [
              "[<matplotlib.lines.Line2D at 0x7f2246e2ded0>]"
            ]
          },
          "metadata": {},
          "execution_count": 46
        },
        {
          "output_type": "display_data",
          "data": {
            "text/plain": [
              "<Figure size 432x288 with 1 Axes>"
            ],
            "image/png": "[encoded data removed]"
          },
          "metadata": {
            "needs_background": "light"
          }
        }
      ],
      "source": [
        "y_head = linear_reg.predict(array)  # salary\n",
        "\n",
        "plt.plot(array, y_head,color = \"blue\")\n"
      ]
    },
    {
      "cell_type": "code",
      "execution_count": 47,
      "metadata": {
        "id": "Yo1xaYoFdXH2",
        "outputId": "1a0f3612-40c2-42fd-d2b3-d8da2333d637",
        "colab": {
          "base_uri": "https://localhost:8080/"
        }
      },
      "outputs": [
        {
          "output_type": "stream",
          "name": "stdout",
          "text": [
            "b11:  [[115498.71489503]]\n"
          ]
        }
      ],
      "source": [
        "b100 = linear_reg.predict([[100]])\n",
        "print(\"b11: \",b100)\n"
      ]
    }
  ],
  "metadata": {
    "kernelspec": {
      "display_name": "Python 3",
      "language": "python",
      "name": "python3"
    },
    "language_info": {
      "codemirror_mode": {
        "name": "ipython",
        "version": 3
      },
      "file_extension": ".py",
      "mimetype": "text/x-python",
      "name": "python",
      "nbconvert_exporter": "python",
      "pygments_lexer": "ipython3",
      "version": "3.7.1"
    },
    "colab": {
      "name": "linear-regression.ipynb",
      "provenance": [],
      "collapsed_sections": []
    }
  },
  "nbformat": 4,
  "nbformat_minor": 0
}