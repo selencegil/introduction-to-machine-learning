{
  "nbformat": 4,
  "nbformat_minor": 0,
  "metadata": {
    "colab": {
      "name": "Untitled3.ipynb",
      "provenance": []
    },
    "kernelspec": {
      "name": "python3",
      "display_name": "Python 3"
    },
    "language_info": {
      "name": "python"
    }
  },
  "cells": [
    {
      "cell_type": "code",
      "execution_count": 1,
      "metadata": {
        "id": "VB3NdxQ2CACE"
      },
      "outputs": [],
      "source": [
        "import random"
      ]
    },
    {
      "cell_type": "code",
      "source": [
        "iter = 10000\n",
        "version1 = [0,0,1]\n",
        "version2 = [0,1,0]\n",
        "version3 = [1,0,0]\n",
        "versiyonlar = [version1, version2, version3]"
      ],
      "metadata": {
        "id": "1bkQFt4MCD2I"
      },
      "execution_count": 2,
      "outputs": []
    },
    {
      "cell_type": "code",
      "source": [
        "win = 0\n",
        "for x in range(iter):\n",
        "  y = random.randint(0,2)\n",
        "  versiyon = versiyonlar[y]\n",
        "  seçim = random.randint(0,2)\n",
        "  if versiyon[seçim] == 1:\n",
        "    win +=1\n",
        "yüzde = win/100\n",
        "print(\"şeçim değiştirilmezse\",yüzde)"
      ],
      "metadata": {
        "colab": {
          "base_uri": "https://localhost:8080/"
        },
        "id": "BMM0Agr1CGel",
        "outputId": "bc6b3337-cb54-4870-c1ce-54061b0fd623"
      },
      "execution_count": 3,
      "outputs": [
        {
          "output_type": "stream",
          "name": "stdout",
          "text": [
            "şeçim değiştirilmezse 34.42\n"
          ]
        }
      ]
    },
    {
      "cell_type": "code",
      "source": [
        "win = 0\n",
        "for x in range(iter):\n",
        "  y = random.randint(0,2)\n",
        "  versiyon = versiyonlar[y]\n",
        "  seçim = random.randint(0,2)\n",
        "  copyversiyon = versiyon.copy()\n",
        "  copyversiyon.pop(seçim)\n",
        "  sunucu = 0\n",
        "  if copyversiyon[sunucu] == 1:\n",
        "    sunucu = 1\n",
        "  copyversiyon.pop(sunucu)\n",
        "  if copyversiyon[0] == 1:\n",
        "    win +=1\n",
        "yüzde = win/100\n",
        "print(\"kapı değiştirirse\",yüzde)"
      ],
      "metadata": {
        "id": "TkZOVrN9CJEz",
        "outputId": "3c58a928-8e78-4dd8-d2b5-10345b5466ae",
        "colab": {
          "base_uri": "https://localhost:8080/"
        }
      },
      "execution_count": 4,
      "outputs": [
        {
          "output_type": "stream",
          "name": "stdout",
          "text": [
            "kapı değiştirirse 65.62\n"
          ]
        }
      ]
    }
  ]
}